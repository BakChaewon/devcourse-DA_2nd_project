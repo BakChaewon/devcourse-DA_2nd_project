{
 "cells": [
  {
   "cell_type": "code",
   "execution_count": null,
   "id": "aa88f13b",
   "metadata": {},
   "outputs": [],
   "source": [
    "# 시기에 따른 결제 수단 - 1 그래프\n",
    "df1 = pak_ecommerce_data[['created_at','year','payment_method']]\n",
    "p_trend_16 = df1[df1['year'] == 2016]\n",
    "p_trend_17 = df1[df1['year'] == 2017]\n",
    "p_trend_18 = df1[df1['year'] == 2018]\n",
    "\n",
    "plt.figure(figsize=(20, 5)) \n",
    "\n",
    "plt.subplot(1, 3, 1)\n",
    "plt.pie(df_16['proportion'], labels=df_16['payment_method'], autopct='%1.1f%%', startangle=140)\n",
    "# 원의 형태를 유지하기 위해 아래 코드 추가\n",
    "plt.axis('equal')\n",
    "plt.title('Payment_method(2016)')\n",
    "\n",
    "plt.subplot(1, 3, 2)\n",
    "plt.pie(df_17['proportion'], labels=df_17['payment_method'], autopct='%1.1f%%', startangle=140)\n",
    "plt.axis('equal')\n",
    "plt.title('Payment_method(2017)')\n",
    "\n",
    "plt.subplot(1, 3, 3)\n",
    "plt.pie(df_18['proportion'], labels=df_18['payment_method'], autopct='%1.1f%%', startangle=140)\n",
    "plt.axis('equal')\n",
    "plt.title('Payment_method(2018)')\n",
    "\n",
    "plt.savefig('Payment_method_year.png',dpi=300,bbox_inches='tight')"
   ]
  },
  {
   "cell_type": "code",
   "execution_count": null,
   "id": "faa03d3d",
   "metadata": {},
   "outputs": [],
   "source": [
    "# 결제 수단에 따른 수익 비교\n",
    "df1 = pak_ecommerce_data[['created_at','payment_method','price']]\n",
    "df2 = pak_ecommerce_data.groupby(['payment_method','status'])['grand_total'].sum().reset_index(name='sum')\n",
    "df3 = pd.crosstab(df2['payment_method'], df2['status'],values=df2['sum'] ,margins=True,aggfunc='sum' ,margins_name='Total')\n",
    "df4 = df3.iloc[0:5,0:5]\n",
    "\n",
    "fig, ax = plt.subplots(figsize=(12, 10)) \n",
    "ax= df4.plot(kind='bar', stacked=True,ax=ax)\n",
    "ax.set_title('Total Sales by payment method',fontsize = 15, weight='bold')\n",
    "ax.set_ylabel('Sum', fontsize = 10, weight='bold')\n",
    "ax.set_xlabel('Payment method', fontsize = 10 , weight='bold')\n",
    "plt.savefig('Totalsales_payment.png',dig=300,bbox_inches='tight')\n"
   ]
  },
  {
   "cell_type": "code",
   "execution_count": null,
   "id": "dceb26fb",
   "metadata": {},
   "outputs": [],
   "source": [
    "# 전체 기간 내 결제수단 별 일별 사용량 추이\n",
    "order_payment = pd.crosstab(df['created_at'], df['payment_method'])\n",
    "ax = order_payment.plot(figsize=(16,5))\n",
    "customize_plot(ax, 'Orders by payment_method', 'Date', 'Orders', 13,10)"
   ]
  },
  {
   "cell_type": "code",
   "execution_count": null,
   "id": "71c90096",
   "metadata": {},
   "outputs": [],
   "source": [
    "# 결제수단 별 일별 사용량 - 주문 상태 'complete'건 별도 확인\n",
    "completed_order = df[df['status'] == 'complete']\n",
    "order_completed = pd.crosstab(completed_order['created_at'], completed_order['payment_method'])\n",
    "\n",
    "ax = order_completed.plot(figsize=(16,5))\n",
    "customize_plot(ax, 'Completed Orders by payment_method', 'Date', 'Orders', 13,10)\n",
    "\n",
    "\n",
    "# 캔슬 건 페이먼트 날짜별\n",
    "canceled_order = df[df['status'] == 'canceled']\n",
    "order_canceled = pd.crosstab(canceled_order['created_at'], canceled_order['payment_method'])\n",
    "ax = order_canceled.plot(figsize=(16,5))\n",
    "customize_plot(ax, 'Canceled Orders by payment_method', 'Date', 'Orders', 13,10)"
   ]
  }
 ],
 "metadata": {
  "kernelspec": {
   "display_name": "Python 3",
   "language": "python",
   "name": "python3"
  },
  "language_info": {
   "codemirror_mode": {
    "name": "ipython",
    "version": 3
   },
   "file_extension": ".py",
   "mimetype": "text/x-python",
   "name": "python",
   "nbconvert_exporter": "python",
   "pygments_lexer": "ipython3",
   "version": "3.8.8"
  }
 },
 "nbformat": 4,
 "nbformat_minor": 5
}
